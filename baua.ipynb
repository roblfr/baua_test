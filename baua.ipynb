{
  "nbformat": 4,
  "nbformat_minor": 0,
  "metadata": {
    "colab": {
      "name": "baua.ipynb",
      "provenance": [],
      "collapsed_sections": [],
      "authorship_tag": "ABX9TyPSCbQ1w9vxp4pWYLthPTDS",
      "include_colab_link": true
    },
    "kernelspec": {
      "name": "python3",
      "display_name": "Python 3"
    },
    "language_info": {
      "name": "python"
    }
  },
  "cells": [
    {
      "cell_type": "markdown",
      "metadata": {
        "id": "view-in-github",
        "colab_type": "text"
      },
      "source": [
        "<a href=\"https://colab.research.google.com/github/roblfr/baua_test/blob/main/baua.ipynb\" target=\"_parent\"><img src=\"https://colab.research.google.com/assets/colab-badge.svg\" alt=\"Open In Colab\"/></a>"
      ]
    },
    {
      "cell_type": "code",
      "execution_count": null,
      "metadata": {
        "id": "OXAMhS9_i9ox",
        "colab": {
          "base_uri": "https://localhost:8080/"
        },
        "outputId": "4a7613e5-6ba7-4a97-eb00-bef64b2aa335"
      },
      "outputs": [
        {
          "output_type": "stream",
          "name": "stdout",
          "text": [
            "\n",
            "Automagic is ON, % prefix IS NOT needed for line magics.\n"
          ]
        }
      ],
      "source": [
        "%automagic"
      ]
    },
    {
      "cell_type": "code",
      "source": [
        "!mkdir a1\n",
        "!mkdir a2\n",
        "!mkdir a3"
      ],
      "metadata": {
        "id": "3O2-MHgl_9Mr"
      },
      "execution_count": null,
      "outputs": []
    },
    {
      "cell_type": "markdown",
      "source": [
        "# Aufgabe 1"
      ],
      "metadata": {
        "id": "DmOiZR4ursqY"
      }
    },
    {
      "cell_type": "markdown",
      "source": [
        "Navigiere in Verzeichnis"
      ],
      "metadata": {
        "id": "zYN5u6rtrtgc"
      }
    },
    {
      "cell_type": "code",
      "source": [
        "cd /content/a1/"
      ],
      "metadata": {
        "colab": {
          "base_uri": "https://localhost:8080/"
        },
        "id": "dT639yWhrwPv",
        "outputId": "22d0f8e3-bb1c-48e5-89c7-78a5a815a3f8"
      },
      "execution_count": null,
      "outputs": [
        {
          "output_type": "stream",
          "name": "stdout",
          "text": [
            "/content/a1\n"
          ]
        }
      ]
    },
    {
      "cell_type": "markdown",
      "source": [
        "Aufgabe 1: Datei ziehen: Nicht möglich. Manueller Upload. Cave: Datei kann ggfs. nicht im System abgelegt werden. Cave: github <25MB"
      ],
      "metadata": {
        "id": "zvh9fFwSqq-a"
      }
    },
    {
      "cell_type": "code",
      "source": [
        "!wget https://github.com/roblfr/baua_test/raw/main/E728E2CAB797C90A01CD271118F574B8B7D0DAEAB7E81193EB89A2AC769A0896.gz"
      ],
      "metadata": {
        "colab": {
          "base_uri": "https://localhost:8080/"
        },
        "id": "wT0gueaTwd3y",
        "outputId": "9f3a3b2f-40c8-43f6-8ef8-77ebb6219cde"
      },
      "execution_count": null,
      "outputs": [
        {
          "output_type": "stream",
          "name": "stdout",
          "text": [
            "--2022-03-16 08:05:31--  https://github.com/roblfr/baua_test/raw/main/E728E2CAB797C90A01CD271118F574B8B7D0DAEAB7E81193EB89A2AC769A0896.gz\n",
            "Resolving github.com (github.com)... 140.82.114.3\n",
            "Connecting to github.com (github.com)|140.82.114.3|:443... connected.\n",
            "HTTP request sent, awaiting response... 302 Found\n",
            "Location: https://raw.githubusercontent.com/roblfr/baua_test/main/E728E2CAB797C90A01CD271118F574B8B7D0DAEAB7E81193EB89A2AC769A0896.gz [following]\n",
            "--2022-03-16 08:05:31--  https://raw.githubusercontent.com/roblfr/baua_test/main/E728E2CAB797C90A01CD271118F574B8B7D0DAEAB7E81193EB89A2AC769A0896.gz\n",
            "Resolving raw.githubusercontent.com (raw.githubusercontent.com)... 185.199.111.133, 185.199.108.133, 185.199.110.133, ...\n",
            "Connecting to raw.githubusercontent.com (raw.githubusercontent.com)|185.199.111.133|:443... connected.\n",
            "HTTP request sent, awaiting response... 200 OK\n",
            "Length: 14517757 (14M) [application/octet-stream]\n",
            "Saving to: ‘E728E2CAB797C90A01CD271118F574B8B7D0DAEAB7E81193EB89A2AC769A0896.gz’\n",
            "\n",
            "E728E2CAB797C90A01C 100%[===================>]  13.84M  --.-KB/s    in 0.1s    \n",
            "\n",
            "2022-03-16 08:05:31 (133 MB/s) - ‘E728E2CAB797C90A01CD271118F574B8B7D0DAEAB7E81193EB89A2AC769A0896.gz’ saved [14517757/14517757]\n",
            "\n"
          ]
        }
      ]
    },
    {
      "cell_type": "markdown",
      "source": [
        "Aufgabe 1: Entpacken des Files"
      ],
      "metadata": {
        "id": "slx6fua7kUA7"
      }
    },
    {
      "cell_type": "code",
      "source": [
        "!gunzip E728E2CAB797C90A01CD271118F574B8B7D0DAEAB7E81193EB89A2AC769A0896"
      ],
      "metadata": {
        "id": "AgvGW0f6kWkA"
      },
      "execution_count": null,
      "outputs": []
    },
    {
      "cell_type": "markdown",
      "source": [
        "Aufgabe 1: Zählen mit grep\n",
        "-a\n",
        "|\n",
        "wc -l"
      ],
      "metadata": {
        "id": "GMwdLFKRkhwL"
      }
    },
    {
      "cell_type": "code",
      "source": [
        "!grep -a 'g__Penicillium' E728E2CAB797C90A01CD271118F574B8B7D0DAEAB7E81193EB89A2AC769A0896 | wc -l"
      ],
      "metadata": {
        "colab": {
          "base_uri": "https://localhost:8080/"
        },
        "id": "RTMuHduqrBpO",
        "outputId": "5264ab82-2538-4a9f-9d1e-ebb3099a5034"
      },
      "execution_count": null,
      "outputs": [
        {
          "output_type": "stream",
          "name": "stdout",
          "text": [
            "1294\n"
          ]
        }
      ]
    },
    {
      "cell_type": "markdown",
      "source": [
        "# Aufgabe 2"
      ],
      "metadata": {
        "id": "rmItsDLS0b2H"
      }
    },
    {
      "cell_type": "markdown",
      "source": [
        "Pfad aktualisieren."
      ],
      "metadata": {
        "id": "oYF9I9XGnBlH"
      }
    },
    {
      "cell_type": "code",
      "source": [
        "cd /content/a2/"
      ],
      "metadata": {
        "colab": {
          "base_uri": "https://localhost:8080/"
        },
        "id": "cpSDt9PLmcfn",
        "outputId": "0c10523d-f58e-4371-ce3c-b668afb35789"
      },
      "execution_count": null,
      "outputs": [
        {
          "output_type": "stream",
          "name": "stdout",
          "text": [
            "/content/a2\n"
          ]
        }
      ]
    },
    {
      "cell_type": "code",
      "source": [
        "!pwd"
      ],
      "metadata": {
        "colab": {
          "base_uri": "https://localhost:8080/"
        },
        "id": "mYqhv7DGmsB6",
        "outputId": "79d3b030-428d-4b45-8ad6-57dc4b34872e"
      },
      "execution_count": null,
      "outputs": [
        {
          "output_type": "stream",
          "name": "stdout",
          "text": [
            "/content/a2\n"
          ]
        }
      ]
    },
    {
      "cell_type": "markdown",
      "source": [
        "SILVA laden (fasta_formatter nicht implementiert !)"
      ],
      "metadata": {
        "id": "MYxuAZcknXwc"
      }
    },
    {
      "cell_type": "code",
      "source": [
        "!wget https://www.arb-silva.de/fileadmin/silva_databases/release_132/Exports/SILVA_132_SSURef_Nr99_tax_silva_trunc.fasta.gz"
      ],
      "metadata": {
        "colab": {
          "base_uri": "https://localhost:8080/"
        },
        "id": "SM6iJlEGmv2-",
        "outputId": "590ce787-517c-40a2-a6b4-d50bab36475e"
      },
      "execution_count": null,
      "outputs": [
        {
          "output_type": "stream",
          "name": "stdout",
          "text": [
            "--2022-03-16 08:14:27--  https://www.arb-silva.de/fileadmin/silva_databases/release_132/Exports/SILVA_132_SSURef_Nr99_tax_silva_trunc.fasta.gz\n",
            "Resolving www.arb-silva.de (www.arb-silva.de)... 194.95.6.29\n",
            "Connecting to www.arb-silva.de (www.arb-silva.de)|194.95.6.29|:443... connected.\n",
            "HTTP request sent, awaiting response... 200 OK\n",
            "Length: 238828503 (228M) [application/gzip]\n",
            "Saving to: ‘SILVA_132_SSURef_Nr99_tax_silva_trunc.fasta.gz’\n",
            "\n",
            "SILVA_132_SSURef_Nr 100%[===================>] 227.76M  24.0MB/s    in 10s     \n",
            "\n",
            "2022-03-16 08:14:38 (22.2 MB/s) - ‘SILVA_132_SSURef_Nr99_tax_silva_trunc.fasta.gz’ saved [238828503/238828503]\n",
            "\n"
          ]
        }
      ]
    },
    {
      "cell_type": "markdown",
      "source": [
        "Entpacken"
      ],
      "metadata": {
        "id": "aB1rzwd8nWuL"
      }
    },
    {
      "cell_type": "code",
      "source": [
        "!gunzip SILVA_132_SSURef_Nr99_tax_silva_trunc.fasta.gz"
      ],
      "metadata": {
        "id": "2s2Ib0eWnD2I"
      },
      "execution_count": null,
      "outputs": []
    },
    {
      "cell_type": "markdown",
      "source": [
        "Mit grep zählen und query als File ausgeben."
      ],
      "metadata": {
        "id": "lYm2FeQsnTWr"
      }
    },
    {
      "cell_type": "code",
      "source": [
        "!grep -a 'Megasphaera elsdenii' SILVA_132_SSURef_Nr99_tax_silva_trunc.fasta | wc -l"
      ],
      "metadata": {
        "colab": {
          "base_uri": "https://localhost:8080/"
        },
        "id": "_rcjWxeknMfY",
        "outputId": "d58e6e97-6746-4c8f-a587-181e26dcb771"
      },
      "execution_count": null,
      "outputs": [
        {
          "output_type": "stream",
          "name": "stdout",
          "text": [
            "18\n"
          ]
        }
      ]
    },
    {
      "cell_type": "code",
      "source": [
        "!grep -a 'Megasphaera elsdenii' SILVA_132_SSURef_Nr99_tax_silva_trunc.fasta > query.lst"
      ],
      "metadata": {
        "id": "10hWknzRnx1f"
      },
      "execution_count": null,
      "outputs": []
    },
    {
      "cell_type": "markdown",
      "source": [
        "Die Konvertierung der SILVA_132 in Single-Line Format ist via Google Colab nicht via fasta_formatter (FastX Toolkit) machbar. Folgende Codezeile ist nur beispielhaft."
      ],
      "metadata": {
        "id": "SrFT6leun7cB"
      }
    },
    {
      "cell_type": "code",
      "source": [
        "!fasta_formatter -i SILVA_132_SSURef_Nr99_tax_silva_trunc.fasta -o 2.fasta"
      ],
      "metadata": {
        "colab": {
          "base_uri": "https://localhost:8080/"
        },
        "id": "D0feigYtn30L",
        "outputId": "2e7d7bcd-695b-4fbc-d0f3-e513bb6fb4b8"
      },
      "execution_count": null,
      "outputs": [
        {
          "output_type": "stream",
          "name": "stdout",
          "text": [
            "/bin/bash: fasta_formatter: command not found\n"
          ]
        }
      ]
    },
    {
      "cell_type": "markdown",
      "source": [
        "Richtiger Befehl (CAVE: 2.fasta nicht generiert, deswegen output direkt runterladen):"
      ],
      "metadata": {
        "id": "2oYxI49Oyhvt"
      }
    },
    {
      "cell_type": "code",
      "source": [
        "!grep -A 1 -f query.lst 2.fasta --no-group-separator > search_m_elsdenii.fasta"
      ],
      "metadata": {
        "colab": {
          "base_uri": "https://localhost:8080/"
        },
        "id": "Q4mX71aJyXxQ",
        "outputId": "5c31de61-9750-438e-fcd0-c0a10e988e9e"
      },
      "execution_count": null,
      "outputs": [
        {
          "output_type": "stream",
          "name": "stdout",
          "text": [
            "grep: 2.fasta: No such file or directory\n"
          ]
        }
      ]
    },
    {
      "cell_type": "code",
      "source": [
        "!wget https://github.com/roblfr/baua_test/raw/main/search_m_elsdenii.fasta"
      ],
      "metadata": {
        "id": "rC_jJjBnzuMa"
      },
      "execution_count": null,
      "outputs": []
    },
    {
      "cell_type": "code",
      "source": [
        "!awk '/^>/{if (l!=\"\") print l; print; l=0; next}{l+=length($0)}END{print l}' search_m_elsdenii.fasta | paste - -"
      ],
      "metadata": {
        "colab": {
          "base_uri": "https://localhost:8080/"
        },
        "id": "jPI0rIhOzojh",
        "outputId": "490dfd0d-329f-490c-c439-af6664f686e1"
      },
      "execution_count": null,
      "outputs": [
        {
          "output_type": "stream",
          "name": "stdout",
          "text": [
            ">AY196917.1.1475 Bacteria;Firmicutes;Negativicutes;Selenomonadales;Veillonellaceae;Megasphaera;Megasphaera elsdenii\t1475\n",
            ">KT006903.1.1475 Bacteria;Firmicutes;Negativicutes;Selenomonadales;Veillonellaceae;Megasphaera;Megasphaera elsdenii\t1475\n",
            ">HE576794.2473031.2474582 Bacteria;Firmicutes;Negativicutes;Selenomonadales;Veillonellaceae;Megasphaera;Megasphaera elsdenii DSM 20460\t1544\n",
            ">HE576794.532644.534195 Bacteria;Firmicutes;Negativicutes;Selenomonadales;Veillonellaceae;Megasphaera;Megasphaera elsdenii DSM 20460\t1544\n",
            ">HE576794.1391947.1393498 Bacteria;Firmicutes;Negativicutes;Selenomonadales;Veillonellaceae;Megasphaera;Megasphaera elsdenii DSM 20460\t1544\n",
            ">HE576794.683487.685038 Bacteria;Firmicutes;Negativicutes;Selenomonadales;Veillonellaceae;Megasphaera;Megasphaera elsdenii DSM 20460\t1544\n",
            ">HE576794.1029437.1030988 Bacteria;Firmicutes;Negativicutes;Selenomonadales;Veillonellaceae;Megasphaera;Megasphaera elsdenii DSM 20460\t1544\n",
            ">HE576794.474375.475926 Bacteria;Firmicutes;Negativicutes;Selenomonadales;Veillonellaceae;Megasphaera;Megasphaera elsdenii DSM 20460\t1544\n",
            ">HE576794.210779.212330 Bacteria;Firmicutes;Negativicutes;Selenomonadales;Veillonellaceae;Megasphaera;Megasphaera elsdenii DSM 20460\t1544\n",
            ">AF283705.1.1513 Bacteria;Firmicutes;Negativicutes;Selenomonadales;Veillonellaceae;Megasphaera;Megasphaera elsdenii\t1513\n",
            ">CP009240.83084.84652 Bacteria;Firmicutes;Negativicutes;Selenomonadales;Veillonellaceae;Megasphaera;Megasphaera elsdenii 14-14\t1545\n",
            ">KX130890.1.1202 Bacteria;Firmicutes;Negativicutes;Selenomonadales;Veillonellaceae;Megasphaera;Megasphaera elsdenii\t1202\n",
            ">KX130893.1.1225 Bacteria;Firmicutes;Negativicutes;Selenomonadales;Veillonellaceae;Megasphaera;Megasphaera elsdenii\t1225\n",
            ">KX130891.1.1243 Bacteria;Firmicutes;Negativicutes;Selenomonadales;Veillonellaceae;Megasphaera;Megasphaera elsdenii\t1243\n",
            ">AY038994.1.1507 Bacteria;Firmicutes;Negativicutes;Selenomonadales;Veillonellaceae;Megasphaera;Megasphaera elsdenii\t1507\n",
            ">AY038995.1.1506 Bacteria;Firmicutes;Negativicutes;Selenomonadales;Veillonellaceae;Megasphaera;Megasphaera elsdenii\t1506\n",
            ">AY038993.1.1505 Bacteria;Firmicutes;Negativicutes;Selenomonadales;Veillonellaceae;Megasphaera;Megasphaera elsdenii\t1505\n",
            ">U95027.1.1426 Bacteria;Firmicutes;Negativicutes;Selenomonadales;Veillonellaceae;Megasphaera;Megasphaera elsdenii\t1422\n"
          ]
        }
      ]
    },
    {
      "cell_type": "markdown",
      "source": [
        "\"Falscher\" Befehl: Target ist die eig. multi-line SILVA: Ergebnis immer 80)"
      ],
      "metadata": {
        "id": "tQFsQVQ2yjcA"
      }
    },
    {
      "cell_type": "code",
      "source": [
        "!grep -A 1 -f  query.lst SILVA_132_SSURef_Nr99_tax_silva_trunc.fasta --no-group-separator > search_m_elsdenii_wrong.fasta"
      ],
      "metadata": {
        "id": "R7Muq0f4yox3"
      },
      "execution_count": null,
      "outputs": []
    },
    {
      "cell_type": "code",
      "source": [
        "!awk '/^>/{if (l!=\"\") print l; print; l=0; next}{l+=length($0)}END{print l}' search_m_elsdenii_wrong.fasta | paste - -"
      ],
      "metadata": {
        "colab": {
          "base_uri": "https://localhost:8080/"
        },
        "id": "yg63JTofzIhW",
        "outputId": "8f1d3f06-9a5a-4b10-cb7d-7ddf1a5fe456"
      },
      "execution_count": null,
      "outputs": [
        {
          "output_type": "stream",
          "name": "stdout",
          "text": [
            ">AY196917.1.1475 Bacteria;Firmicutes;Negativicutes;Selenomonadales;Veillonellaceae;Megasphaera;Megasphaera elsdenii\t80\n",
            ">KT006903.1.1475 Bacteria;Firmicutes;Negativicutes;Selenomonadales;Veillonellaceae;Megasphaera;Megasphaera elsdenii\t80\n",
            ">HE576794.2473031.2474582 Bacteria;Firmicutes;Negativicutes;Selenomonadales;Veillonellaceae;Megasphaera;Megasphaera elsdenii DSM 20460\t80\n",
            ">HE576794.532644.534195 Bacteria;Firmicutes;Negativicutes;Selenomonadales;Veillonellaceae;Megasphaera;Megasphaera elsdenii DSM 20460\t80\n",
            ">HE576794.1391947.1393498 Bacteria;Firmicutes;Negativicutes;Selenomonadales;Veillonellaceae;Megasphaera;Megasphaera elsdenii DSM 20460\t80\n",
            ">HE576794.683487.685038 Bacteria;Firmicutes;Negativicutes;Selenomonadales;Veillonellaceae;Megasphaera;Megasphaera elsdenii DSM 20460\t80\n",
            ">HE576794.1029437.1030988 Bacteria;Firmicutes;Negativicutes;Selenomonadales;Veillonellaceae;Megasphaera;Megasphaera elsdenii DSM 20460\t80\n",
            ">HE576794.474375.475926 Bacteria;Firmicutes;Negativicutes;Selenomonadales;Veillonellaceae;Megasphaera;Megasphaera elsdenii DSM 20460\t80\n",
            ">HE576794.210779.212330 Bacteria;Firmicutes;Negativicutes;Selenomonadales;Veillonellaceae;Megasphaera;Megasphaera elsdenii DSM 20460\t80\n",
            ">AF283705.1.1513 Bacteria;Firmicutes;Negativicutes;Selenomonadales;Veillonellaceae;Megasphaera;Megasphaera elsdenii\t80\n",
            ">CP009240.83084.84652 Bacteria;Firmicutes;Negativicutes;Selenomonadales;Veillonellaceae;Megasphaera;Megasphaera elsdenii 14-14\t80\n",
            ">KX130890.1.1202 Bacteria;Firmicutes;Negativicutes;Selenomonadales;Veillonellaceae;Megasphaera;Megasphaera elsdenii\t80\n",
            ">KX130893.1.1225 Bacteria;Firmicutes;Negativicutes;Selenomonadales;Veillonellaceae;Megasphaera;Megasphaera elsdenii\t80\n",
            ">KX130891.1.1243 Bacteria;Firmicutes;Negativicutes;Selenomonadales;Veillonellaceae;Megasphaera;Megasphaera elsdenii\t80\n",
            ">AY038994.1.1507 Bacteria;Firmicutes;Negativicutes;Selenomonadales;Veillonellaceae;Megasphaera;Megasphaera elsdenii\t80\n",
            ">AY038995.1.1506 Bacteria;Firmicutes;Negativicutes;Selenomonadales;Veillonellaceae;Megasphaera;Megasphaera elsdenii\t80\n",
            ">AY038993.1.1505 Bacteria;Firmicutes;Negativicutes;Selenomonadales;Veillonellaceae;Megasphaera;Megasphaera elsdenii\t80\n",
            ">U95027.1.1426 Bacteria;Firmicutes;Negativicutes;Selenomonadales;Veillonellaceae;Megasphaera;Megasphaera elsdenii\t80\n"
          ]
        }
      ]
    },
    {
      "cell_type": "markdown",
      "source": [
        "Wiederhole Ausgabe und zähle für Allisonella, Anaeroglobus und Negativicoccus"
      ],
      "metadata": {
        "id": "rXpQLw5V02eJ"
      }
    },
    {
      "cell_type": "code",
      "source": [
        "!grep -a 'Allisonella\\|Anaeroglobus\\|Negativicoccus' SILVA_132_SSURef_Nr99_tax_silva_trunc.fasta | wc -l"
      ],
      "metadata": {
        "colab": {
          "base_uri": "https://localhost:8080/"
        },
        "id": "zPwoMamg1Azl",
        "outputId": "a96e2ef0-d6c0-480f-a9a9-359a45316bfc"
      },
      "execution_count": null,
      "outputs": [
        {
          "output_type": "stream",
          "name": "stdout",
          "text": [
            "32\n"
          ]
        }
      ]
    },
    {
      "cell_type": "code",
      "source": [
        "!grep -a 'Allisonella\\|Anaeroglobus\\|Negativicoccus' SILVA_132_SSURef_Nr99_tax_silva_trunc.fasta"
      ],
      "metadata": {
        "colab": {
          "base_uri": "https://localhost:8080/"
        },
        "id": "S4glOOhO06kg",
        "outputId": "746fb49f-db5a-47bd-f623-af4fd2d862db"
      },
      "execution_count": null,
      "outputs": [
        {
          "output_type": "stream",
          "name": "stdout",
          "text": [
            ">GQ006773.1.1390 Bacteria;Firmicutes;Negativicutes;Selenomonadales;Veillonellaceae;Anaeroglobus;uncultured bacterium\n",
            ">AF287783.1.1549 Bacteria;Firmicutes;Negativicutes;Selenomonadales;Veillonellaceae;Anaeroglobus;Megasphaera sp. oral clone BB166\n",
            ">GQ040274.1.1385 Bacteria;Firmicutes;Negativicutes;Selenomonadales;Veillonellaceae;Negativicoccus;uncultured bacterium\n",
            ">AF338413.1.1408 Bacteria;Firmicutes;Negativicutes;Selenomonadales;Veillonellaceae;Anaeroglobus;Anaeroglobus geminatus\n",
            ">HQ264056.1.1520 Bacteria;Firmicutes;Negativicutes;Selenomonadales;Veillonellaceae;Negativicoccus;Negativicoccus succinicivorans\n",
            ">HM317142.1.1384 Bacteria;Firmicutes;Negativicutes;Selenomonadales;Veillonellaceae;Negativicoccus;uncultured bacterium\n",
            ">DQ113693.1.1473 Bacteria;Firmicutes;Negativicutes;Selenomonadales;Veillonellaceae;Allisonella;uncultured bacterium\n",
            ">DQ797046.1.1403 Bacteria;Firmicutes;Negativicutes;Selenomonadales;Veillonellaceae;Allisonella;uncultured bacterium\n",
            ">DQ796739.1.1384 Bacteria;Firmicutes;Negativicutes;Selenomonadales;Veillonellaceae;Allisonella;uncultured bacterium\n",
            ">DQ808102.1.1318 Bacteria;Firmicutes;Negativicutes;Selenomonadales;Veillonellaceae;Allisonella;uncultured bacterium\n",
            ">DQ904699.1.1510 Bacteria;Firmicutes;Negativicutes;Selenomonadales;Veillonellaceae;Allisonella;uncultured bacterium\n",
            ">JQ190020.1.1395 Bacteria;Firmicutes;Negativicutes;Selenomonadales;Veillonellaceae;Allisonella;uncultured bacterium\n",
            ">AF548373.1.1537 Bacteria;Firmicutes;Negativicutes;Selenomonadales;Veillonellaceae;Allisonella;Allisonella histaminiformans\n",
            ">HQ744650.1.1474 Bacteria;Firmicutes;Negativicutes;Selenomonadales;Veillonellaceae;Anaeroglobus;uncultured organism\n",
            ">HQ749284.1.1484 Bacteria;Firmicutes;Negativicutes;Selenomonadales;Veillonellaceae;Anaeroglobus;uncultured organism\n",
            ">KF065327.1.1388 Bacteria;Firmicutes;Negativicutes;Selenomonadales;Veillonellaceae;Negativicoccus;uncultured bacterium\n",
            ">HQ749054.1.1449 Bacteria;Firmicutes;Negativicutes;Selenomonadales;Veillonellaceae;Anaeroglobus;uncultured organism\n",
            ">HQ745232.1.1487 Bacteria;Firmicutes;Negativicutes;Selenomonadales;Veillonellaceae;Anaeroglobus;uncultured organism\n",
            ">HQ744832.1.1477 Bacteria;Firmicutes;Negativicutes;Selenomonadales;Veillonellaceae;Anaeroglobus;uncultured organism\n",
            ">HQ744913.1.1481 Bacteria;Firmicutes;Negativicutes;Selenomonadales;Veillonellaceae;Anaeroglobus;uncultured organism\n",
            ">HQ749043.1.1484 Bacteria;Firmicutes;Negativicutes;Selenomonadales;Veillonellaceae;Anaeroglobus;uncultured organism\n",
            ">HQ777147.1.1486 Bacteria;Firmicutes;Negativicutes;Selenomonadales;Veillonellaceae;Negativicoccus;uncultured organism\n",
            ">FJ715928.1.1401 Bacteria;Firmicutes;Negativicutes;Selenomonadales;Veillonellaceae;Negativicoccus;Negativicoccus succinicivorans\n",
            ">FJ715930.1.1401 Bacteria;Firmicutes;Negativicutes;Selenomonadales;Veillonellaceae;Negativicoccus;Negativicoccus succinicivorans\n",
            ">EF405184.1.1522 Bacteria;Firmicutes;Negativicutes;Selenomonadales;Veillonellaceae;Allisonella;uncultured bacterium\n",
            ">EU289102.1.1473 Bacteria;Firmicutes;Negativicutes;Selenomonadales;Veillonellaceae;Negativicoccus;uncultured bacterium\n",
            ">JF176662.1.1382 Bacteria;Firmicutes;Negativicutes;Selenomonadales;Veillonellaceae;Negativicoccus;uncultured bacterium\n",
            ">JF194248.1.1384 Bacteria;Firmicutes;Negativicutes;Selenomonadales;Veillonellaceae;Negativicoccus;uncultured bacterium\n",
            ">EU289131.1.1477 Bacteria;Firmicutes;Negativicutes;Selenomonadales;Veillonellaceae;Negativicoccus;uncultured Veillonellaceae bacterium\n",
            ">JRMZ01000096.57.1625 Bacteria;Firmicutes;Negativicutes;Selenomonadales;Veillonellaceae;Negativicoccus;Tissierellia bacterium S5-A11\n",
            ">FPLO01007861.16.1565 Bacteria;Firmicutes;Negativicutes;Selenomonadales;Veillonellaceae;Allisonella;metagenome\n",
            ">FMIY01000002.1610152.1611700 Bacteria;Firmicutes;Negativicutes;Selenomonadales;Veillonellaceae;Anaeroglobus;Colibacter massiliensis\n"
          ]
        }
      ]
    },
    {
      "cell_type": "code",
      "source": [
        "!grep -a 'Allisonella\\|Anaeroglobus\\|Negativicoccus' SILVA_132_SSURef_Nr99_tax_silva_trunc.fasta >> query2.lst"
      ],
      "metadata": {
        "id": "4Ljm1M0p1FM9"
      },
      "execution_count": null,
      "outputs": []
    },
    {
      "cell_type": "markdown",
      "source": [
        "et cetera. Siehe oben. Lade query_seqs.txt und konkateniere alle Ergebnisse für clustalo (nicht in Google Colab implementiert, Befehl zur Referenz folgend.)"
      ],
      "metadata": {
        "id": "xnQpGWYv1OP7"
      }
    },
    {
      "cell_type": "code",
      "source": [
        "!clustalo -i phylo_query.fasta -o phylo_msa.fasta --guidetree-out=phylo_tree.dnd"
      ],
      "metadata": {
        "colab": {
          "base_uri": "https://localhost:8080/"
        },
        "id": "Rh_SMoOa1XA8",
        "outputId": "8b20d828-a588-40d1-8005-62b67e02681a"
      },
      "execution_count": null,
      "outputs": [
        {
          "output_type": "stream",
          "name": "stdout",
          "text": [
            "/bin/bash: clustalo: command not found\n"
          ]
        }
      ]
    },
    {
      "cell_type": "markdown",
      "source": [
        "und dann export in Visualisierung."
      ],
      "metadata": {
        "id": "KpJ_2uWL1fb8"
      }
    },
    {
      "cell_type": "markdown",
      "source": [
        "# Aufgabe 3"
      ],
      "metadata": {
        "id": "EW2wepfr1hVU"
      }
    },
    {
      "cell_type": "markdown",
      "source": [
        "Wechsle Pfad"
      ],
      "metadata": {
        "id": "RiWQmq861oZi"
      }
    },
    {
      "cell_type": "code",
      "source": [
        "cd /content/a3/"
      ],
      "metadata": {
        "colab": {
          "base_uri": "https://localhost:8080/"
        },
        "id": "ozWDVuDP1p0S",
        "outputId": "50411823-b3de-4fc9-c30e-8aba8a6f7c8d"
      },
      "execution_count": null,
      "outputs": [
        {
          "output_type": "stream",
          "name": "stdout",
          "text": [
            "/content/a3\n"
          ]
        }
      ]
    },
    {
      "cell_type": "markdown",
      "source": [
        "Lade Swissprot"
      ],
      "metadata": {
        "id": "7RxkYubE1oRq"
      }
    },
    {
      "cell_type": "code",
      "source": [
        "!wget https://ftp.uniprot.org/pub/databases/uniprot/previous_major_releases/release-2020_04/knowledgebase/uniprot_sprot-only2020_04.tar.gz"
      ],
      "metadata": {
        "colab": {
          "base_uri": "https://localhost:8080/"
        },
        "id": "tJb8RRo51vuG",
        "outputId": "a1640abc-11a7-4039-f9be-e0782b9c78bb"
      },
      "execution_count": null,
      "outputs": [
        {
          "output_type": "stream",
          "name": "stdout",
          "text": [
            "--2022-03-16 08:34:06--  https://ftp.uniprot.org/pub/databases/uniprot/previous_major_releases/release-2020_04/knowledgebase/uniprot_sprot-only2020_04.tar.gz\n",
            "Resolving ftp.uniprot.org (ftp.uniprot.org)... 128.175.240.195\n",
            "Connecting to ftp.uniprot.org (ftp.uniprot.org)|128.175.240.195|:443... connected.\n",
            "HTTP request sent, awaiting response... 200 OK\n",
            "Length: 1463311830 (1.4G) [application/x-gzip]\n",
            "Saving to: ‘uniprot_sprot-only2020_04.tar.gz.1’\n",
            "\n",
            "uniprot_sprot-only2 100%[===================>]   1.36G  91.5MB/s    in 15s     \n",
            "\n",
            "2022-03-16 08:34:22 (91.0 MB/s) - ‘uniprot_sprot-only2020_04.tar.gz.1’ saved [1463311830/1463311830]\n",
            "\n"
          ]
        }
      ]
    },
    {
      "cell_type": "markdown",
      "source": [
        "und entpacke"
      ],
      "metadata": {
        "id": "PZrJZq7m1393"
      }
    },
    {
      "cell_type": "code",
      "source": [
        "!tar -xvf uniprot_sprot-only2020_04.tar.gz"
      ],
      "metadata": {
        "colab": {
          "base_uri": "https://localhost:8080/"
        },
        "id": "WYcS4kZD14yf",
        "outputId": "9d1f5944-4495-4eb3-adca-bdec0970908a"
      },
      "execution_count": null,
      "outputs": [
        {
          "output_type": "stream",
          "name": "stdout",
          "text": [
            "uniprot_sprot.dat.gz\n",
            "uniprot_sprot.fasta.gz\n",
            "uniprot_sprot_varsplic.fasta.gz\n",
            "uniprot_sprot.xml.gz\n"
          ]
        }
      ]
    },
    {
      "cell_type": "code",
      "source": [
        "!gunzip uniprot_sprot.fasta.gz"
      ],
      "metadata": {
        "id": "G5L7AqUT2B0k"
      },
      "execution_count": null,
      "outputs": []
    },
    {
      "cell_type": "markdown",
      "source": [
        "Zähle alle Einträge"
      ],
      "metadata": {
        "id": "QVIDRbpE10J2"
      }
    },
    {
      "cell_type": "code",
      "source": [
        "!grep -a '>' uniprot_sprot.fasta | wc -l"
      ],
      "metadata": {
        "colab": {
          "base_uri": "https://localhost:8080/"
        },
        "id": "OAxkaYCE12_-",
        "outputId": "addf0e56-423f-4ac9-e34b-6d128f2a795d"
      },
      "execution_count": null,
      "outputs": [
        {
          "output_type": "stream",
          "name": "stdout",
          "text": [
            "563082\n"
          ]
        }
      ]
    },
    {
      "cell_type": "markdown",
      "source": [
        "Zähle S. aureus"
      ],
      "metadata": {
        "id": "HwB7VTvw2Khc"
      }
    },
    {
      "cell_type": "code",
      "source": [
        "!grep -a 'Staphylococcus aureus' uniprot_sprot.fasta | wc -l"
      ],
      "metadata": {
        "colab": {
          "base_uri": "https://localhost:8080/"
        },
        "id": "buPX5aoC2MIt",
        "outputId": "26f1ca18-af9f-47f6-a4e4-ca960c0b70c1"
      },
      "execution_count": null,
      "outputs": [
        {
          "output_type": "stream",
          "name": "stdout",
          "text": [
            "10226\n"
          ]
        }
      ]
    },
    {
      "cell_type": "markdown",
      "source": [
        "Lade Pythonskripte"
      ],
      "metadata": {
        "id": "tlcLWstb2P2l"
      }
    },
    {
      "cell_type": "code",
      "source": [
        "!wget https://github.com/roblfr/baua_test/raw/main/fasta2yaml_summary.py\n",
        "!wget https://github.com/roblfr/baua_test/raw/main/fasta_utils.py"
      ],
      "metadata": {
        "colab": {
          "base_uri": "https://localhost:8080/"
        },
        "id": "69LMQ-Dd2hi5",
        "outputId": "46fcc6c4-7602-490a-a57d-88b12a176c80"
      },
      "execution_count": null,
      "outputs": [
        {
          "output_type": "stream",
          "name": "stdout",
          "text": [
            "--2022-03-16 08:31:34--  https://github.com/roblfr/baua_test/raw/main/fasta2yaml_summary.py\n",
            "Resolving github.com (github.com)... 140.82.112.4\n",
            "Connecting to github.com (github.com)|140.82.112.4|:443... connected.\n",
            "HTTP request sent, awaiting response... 302 Found\n",
            "Location: https://raw.githubusercontent.com/roblfr/baua_test/main/fasta2yaml_summary.py [following]\n",
            "--2022-03-16 08:31:34--  https://raw.githubusercontent.com/roblfr/baua_test/main/fasta2yaml_summary.py\n",
            "Resolving raw.githubusercontent.com (raw.githubusercontent.com)... 185.199.108.133, 185.199.109.133, 185.199.110.133, ...\n",
            "Connecting to raw.githubusercontent.com (raw.githubusercontent.com)|185.199.108.133|:443... connected.\n",
            "HTTP request sent, awaiting response... 200 OK\n",
            "Length: 426 [text/plain]\n",
            "Saving to: ‘fasta2yaml_summary.py’\n",
            "\n",
            "fasta2yaml_summary. 100%[===================>]     426  --.-KB/s    in 0s      \n",
            "\n",
            "2022-03-16 08:31:35 (26.8 MB/s) - ‘fasta2yaml_summary.py’ saved [426/426]\n",
            "\n",
            "--2022-03-16 08:31:35--  https://github.com/roblfr/baua_test/raw/main/fasta_utils.py\n",
            "Resolving github.com (github.com)... 140.82.112.3\n",
            "Connecting to github.com (github.com)|140.82.112.3|:443... connected.\n",
            "HTTP request sent, awaiting response... 302 Found\n",
            "Location: https://raw.githubusercontent.com/roblfr/baua_test/main/fasta_utils.py [following]\n",
            "--2022-03-16 08:31:35--  https://raw.githubusercontent.com/roblfr/baua_test/main/fasta_utils.py\n",
            "Resolving raw.githubusercontent.com (raw.githubusercontent.com)... 185.199.108.133, 185.199.109.133, 185.199.110.133, ...\n",
            "Connecting to raw.githubusercontent.com (raw.githubusercontent.com)|185.199.108.133|:443... connected.\n",
            "HTTP request sent, awaiting response... 200 OK\n",
            "Length: 5699 (5.6K) [text/plain]\n",
            "Saving to: ‘fasta_utils.py’\n",
            "\n",
            "fasta_utils.py      100%[===================>]   5.57K  --.-KB/s    in 0s      \n",
            "\n",
            "2022-03-16 08:31:35 (72.2 MB/s) - ‘fasta_utils.py’ saved [5699/5699]\n",
            "\n"
          ]
        }
      ]
    },
    {
      "cell_type": "markdown",
      "source": [
        "Extrahiere Daten via Python (analog Alle Einträge mit grep)"
      ],
      "metadata": {
        "id": "9uP-wox_2vKG"
      }
    },
    {
      "cell_type": "code",
      "source": [
        "import fasta_utils\n",
        "import gzip\n",
        "\n",
        "fasta_desc_lines = []\n",
        "file_handle = gzip.open('uniprot_sprot.fasta.gz', 'rt')\n",
        "for line in file_handle:\n",
        "  if fasta_utils.is_description_line(line):\n",
        "    fasta_desc_lines.append(line)\n",
        "\n",
        "file_handle.close()\n",
        "len(fasta_desc_lines)"
      ],
      "metadata": {
        "colab": {
          "base_uri": "https://localhost:8080/"
        },
        "id": "aTCs0x7F28um",
        "outputId": "c4d89c11-e5d1-461a-fcae-9ad0956e28fe"
      },
      "execution_count": null,
      "outputs": [
        {
          "output_type": "execute_result",
          "data": {
            "text/plain": [
              "563082"
            ]
          },
          "metadata": {},
          "execution_count": 54
        }
      ]
    },
    {
      "cell_type": "markdown",
      "source": [
        "Per species/proteins"
      ],
      "metadata": {
        "id": "pDFgKdLv4Rmz"
      }
    },
    {
      "cell_type": "code",
      "source": [
        "!cat uniprot_sprot.fasta | python fasta2yaml_summary.py | grep -a \"Staphylococcus aureus\""
      ],
      "metadata": {
        "colab": {
          "base_uri": "https://localhost:8080/"
        },
        "id": "3Bxvt3bf4WD-",
        "outputId": "121f6e10-d105-488f-b27d-9267469e133b"
      },
      "execution_count": null,
      "outputs": [
        {
          "output_type": "stream",
          "name": "stdout",
          "text": [
            "Staphylococcus aureus:\n",
            "  Staphylococcus aureus: 319\n",
            "  Staphylococcus aureus (strain 04-02981): 3\n",
            "  Staphylococcus aureus (strain COL): 903\n",
            "  Staphylococcus aureus (strain ED98): 2\n",
            "  Staphylococcus aureus (strain JH1): 455\n",
            "  Staphylococcus aureus (strain JH9): 449\n",
            "  Staphylococcus aureus (strain JKD6008): 1\n",
            "  Staphylococcus aureus (strain MRSA ST398 / isolate S0385): 1\n",
            "  Staphylococcus aureus (strain MRSA252): 888\n",
            "  Staphylococcus aureus (strain MSSA476): 890\n",
            "  Staphylococcus aureus (strain MW2): 896\n",
            "  Staphylococcus aureus (strain Mu3 / ATCC 700698): 484\n",
            "  Staphylococcus aureus (strain Mu50 / ATCC 700699): 941\n",
            "  Staphylococcus aureus (strain N315): 929\n",
            "  Staphylococcus aureus (strain NCTC 8325 / PS 47): 799\n",
            "  Staphylococcus aureus (strain Newman): 524\n",
            "  Staphylococcus aureus (strain TCH60): 1\n",
            "  Staphylococcus aureus (strain TW20 / 0582): 1\n",
            "  Staphylococcus aureus (strain USA300 / TCH1516): 419\n",
            "  Staphylococcus aureus (strain USA300): 677\n",
            "  Staphylococcus aureus (strain bovine RF122 / ET3-1): 643\n",
            "  Staphylococcus aureus subsp. anaerobius: 1\n"
          ]
        }
      ]
    },
    {
      "cell_type": "code",
      "source": [
        "!cat uniprot_sprot.fasta | python fasta2yaml_summary.py | grep -a \"Penicillium\""
      ],
      "metadata": {
        "colab": {
          "base_uri": "https://localhost:8080/"
        },
        "id": "ZKqLfXM15bOR",
        "outputId": "3d7f998a-5568-431b-90a8-f0d70b70bdd5"
      },
      "execution_count": null,
      "outputs": [
        {
          "output_type": "stream",
          "name": "stdout",
          "text": [
            "Penicillium aethiopicum:\n",
            "  Penicillium aethiopicum: 25\n",
            "Penicillium amagasakiense:\n",
            "  Penicillium amagasakiense: 1\n",
            "Penicillium brasilianum:\n",
            "  Penicillium brasilianum: 14\n",
            "Penicillium brevicompactum:\n",
            "  Penicillium brevicompactum: 12\n",
            "Penicillium camembertii:\n",
            "  Penicillium camembertii: 4\n",
            "Penicillium canescens:\n",
            "  Penicillium canescens: 3\n",
            "Penicillium chrysogenum:\n",
            "  Penicillium chrysogenum: 33\n",
            "  Penicillium chrysogenum virus (isolate Caston/2003): 4\n",
            "Penicillium citrinum:\n",
            "  Penicillium citrinum: 20\n",
            "Penicillium crustosum:\n",
            "  Penicillium crustosum: 19\n",
            "Penicillium cyclopium:\n",
            "  Penicillium cyclopium: 1\n",
            "Penicillium decumbens:\n",
            "  Penicillium decumbens: 12\n",
            "Penicillium digitatum:\n",
            "  Penicillium digitatum: 2\n",
            "  Penicillium digitatum (strain PHI26 / CECT 20796): 3\n",
            "Penicillium echinulatum:\n",
            "  Penicillium echinulatum: 1\n",
            "Penicillium expansum:\n",
            "  Penicillium expansum: 34\n",
            "Penicillium fellutanum:\n",
            "  Penicillium fellutanum: 15\n",
            "Penicillium glabrum:\n",
            "  Penicillium glabrum: 3\n",
            "Penicillium griseoroseum:\n",
            "  Penicillium griseoroseum: 1\n",
            "Penicillium herquei:\n",
            "  Penicillium herquei: 8\n",
            "Penicillium italicum:\n",
            "  Penicillium italicum: 1\n",
            "Penicillium janthinellum:\n",
            "  Penicillium janthinellum: 17\n",
            "Penicillium nalgiovense:\n",
            "  Penicillium nalgiovense: 1\n",
            "Penicillium olsonii:\n",
            "  Penicillium olsonii: 2\n",
            "Penicillium oxalicum:\n",
            "  Penicillium oxalicum: 2\n",
            "  Penicillium oxalicum (strain 114-2 / CGMCC 5302): 1\n",
            "Penicillium patulum:\n",
            "  Penicillium patulum: 2\n",
            "Penicillium paxilli:\n",
            "  Penicillium paxilli: 8\n",
            "Penicillium roqueforti:\n",
            "  Penicillium roqueforti: 13\n",
            "  Penicillium roqueforti (strain FM164): 20\n",
            "Penicillium rubens:\n",
            "  Penicillium rubens (strain ATCC 28089 / DSM 1075 / NRRL 1951 / Wisconsin 54-1255): 137\n",
            "Penicillium simplicissimum:\n",
            "  Penicillium simplicissimum: 23\n",
            "Penicillium sp.:\n",
            "  Penicillium sp.: 2\n",
            "Penicillium urticae:\n",
            "  Penicillium urticae: 2\n"
          ]
        }
      ]
    },
    {
      "cell_type": "code",
      "source": [
        "!cat uniprot_sprot.fasta | python fasta2yaml_summary.py | grep -a \"Alternaria\""
      ],
      "metadata": {
        "colab": {
          "base_uri": "https://localhost:8080/"
        },
        "id": "iRmT2sCX5fDA",
        "outputId": "e334059d-1a3e-440d-903e-fee107218099"
      },
      "execution_count": null,
      "outputs": [
        {
          "output_type": "stream",
          "name": "stdout",
          "text": [
            "Alternaria alternata:\n",
            "  Alternaria alternata: 89\n",
            "Alternaria botrytis:\n",
            "  Alternaria botrytis: 1\n",
            "Alternaria brassicicola:\n",
            "  Alternaria brassicicola: 19\n",
            "Alternaria cinerariae:\n",
            "  Alternaria cinerariae: 5\n",
            "Alternaria solani:\n",
            "  Alternaria solani: 12\n"
          ]
        }
      ]
    },
    {
      "cell_type": "markdown",
      "source": [
        "Ausgabe natürlich via > in separates File möglich."
      ],
      "metadata": {
        "id": "oD2LKtSv5s0Q"
      }
    },
    {
      "cell_type": "markdown",
      "source": [
        "Weiter im Text mit Taxonomy (Beispielhaft nur S. aureus)"
      ],
      "metadata": {
        "id": "g9mOu6XA8e-D"
      }
    },
    {
      "cell_type": "code",
      "source": [
        "!grep -a 'OS=Staphylococcus aureus' uniprot_sprot.fasta > s_aureus_complete.lst"
      ],
      "metadata": {
        "id": "QxQWgW3m8gBA"
      },
      "execution_count": null,
      "outputs": []
    },
    {
      "cell_type": "code",
      "source": [
        "!cat s_aureus_complete.lst | wc -l"
      ],
      "metadata": {
        "colab": {
          "base_uri": "https://localhost:8080/"
        },
        "id": "o2E6j2UL86ci",
        "outputId": "90abf11c-5b93-4bbb-baf0-6341d6d1ad81"
      },
      "execution_count": null,
      "outputs": [
        {
          "output_type": "stream",
          "name": "stdout",
          "text": [
            "10226\n"
          ]
        }
      ]
    },
    {
      "cell_type": "code",
      "source": [
        "!awk '{ sub(/.*sp\\|/, \"\"); sub(/\\|.*/, \"\"); print }' s_aureus_trimmed_complete.lst > uniprot_id.lst\n",
        "!cat uniprot_id.lst | wc -l\n",
        "!awk '{ sub(/.*OX=/, \"\"); sub(/ .*/, \"\"); print }' s_aureus_trimmed_complete.lst > uniprot_ox.lst\n",
        "!cat uniprot_ox.lst | wc -l"
      ],
      "metadata": {
        "colab": {
          "base_uri": "https://localhost:8080/"
        },
        "id": "wm7gYUmz9Hud",
        "outputId": "5edccf8c-63a0-4f5a-9bb8-58dceac9dc08"
      },
      "execution_count": null,
      "outputs": [
        {
          "output_type": "stream",
          "name": "stdout",
          "text": [
            "10226\n",
            "10226\n"
          ]
        }
      ]
    },
    {
      "cell_type": "markdown",
      "source": [
        "Konkatenieren und dann Krona.\n",
        "paste uniprot_id.lst uniprot_ox.lst > uniprot_combined.lst\n",
        "ktImportTaxonomy uniprot_combined.lst -o Krona/KronaReport.html"
      ],
      "metadata": {
        "id": "kMswxwVe9l7J"
      }
    }
  ]
}